{
 "cells": [
  {
   "cell_type": "markdown",
   "metadata": {},
   "source": [
    "# Загрузка Pandas и очистка данных"
   ]
  },
  {
   "cell_type": "code",
   "execution_count": 1,
   "metadata": {},
   "outputs": [],
   "source": [
    "import numpy as np\n",
    "import pandas as pd\n",
    "import seaborn as sns\n",
    "import matplotlib.pyplot as plt\n",
    "import os\n",
    "from collections import Counter\n",
    "%matplotlib inline"
   ]
  },
  {
   "cell_type": "code",
   "execution_count": null,
   "metadata": {},
   "outputs": [],
   "source": [
    "# Загружаем специальный удобный инструмент для разделения датасета:\n",
    "# from sklearn.model_selection import train_test_split"
   ]
  },
  {
   "cell_type": "code",
   "execution_count": null,
   "metadata": {},
   "outputs": [],
   "source": [
    "# Input data files are available in the \"../input/\" directory.\n",
    "# For example, running this (by clicking run or pressing Shift+Enter) will list all files under the input directory\n",
    "\n",
    "# import os\n",
    "# for dirname, _, filenames in os.walk('/kaggle/input'):\n",
    "#     for filename in filenames:\n",
    "#         print(os.path.join(dirname, filename))\n",
    "\n",
    "# Any results you write to the current directory are saved as output."
   ]
  },
  {
   "cell_type": "code",
   "execution_count": 2,
   "metadata": {},
   "outputs": [],
   "source": [
    "from datetime import datetime, timedelta"
   ]
  },
  {
   "cell_type": "code",
   "execution_count": 3,
   "metadata": {},
   "outputs": [],
   "source": [
    "import string\n",
    "import re"
   ]
  },
  {
   "cell_type": "code",
   "execution_count": 4,
   "metadata": {},
   "outputs": [],
   "source": [
    "# всегда фиксируйте RANDOM_SEED, чтобы ваши эксперименты были воспроизводимы!\n",
    "RANDOM_SEED = 42"
   ]
  },
  {
   "cell_type": "code",
   "execution_count": null,
   "metadata": {},
   "outputs": [],
   "source": [
    "# зафиксируем версию пакетов, чтобы эксперименты были воспроизводимы:\n",
    "# !pip freeze > requirements.txt"
   ]
  },
  {
   "cell_type": "code",
   "execution_count": 134,
   "metadata": {
    "scrolled": true
   },
   "outputs": [
    {
     "data": {
      "text/html": [
       "<div>\n",
       "<style scoped>\n",
       "    .dataframe tbody tr th:only-of-type {\n",
       "        vertical-align: middle;\n",
       "    }\n",
       "\n",
       "    .dataframe tbody tr th {\n",
       "        vertical-align: top;\n",
       "    }\n",
       "\n",
       "    .dataframe thead th {\n",
       "        text-align: right;\n",
       "    }\n",
       "</style>\n",
       "<table border=\"1\" class=\"dataframe\">\n",
       "  <thead>\n",
       "    <tr style=\"text-align: right;\">\n",
       "      <th></th>\n",
       "      <th>Restaurant_id</th>\n",
       "      <th>City</th>\n",
       "      <th>Cuisine Style</th>\n",
       "      <th>Ranking</th>\n",
       "      <th>Rating</th>\n",
       "      <th>Price Range</th>\n",
       "      <th>Number of Reviews</th>\n",
       "      <th>Reviews</th>\n",
       "      <th>URL_TA</th>\n",
       "      <th>ID_TA</th>\n",
       "    </tr>\n",
       "  </thead>\n",
       "  <tbody>\n",
       "    <tr>\n",
       "      <th>0</th>\n",
       "      <td>id_5569</td>\n",
       "      <td>Paris</td>\n",
       "      <td>['European', 'French', 'International']</td>\n",
       "      <td>5570.0</td>\n",
       "      <td>3.5</td>\n",
       "      <td>$$ - $$$</td>\n",
       "      <td>194.0</td>\n",
       "      <td>[['Good food at your doorstep', 'A good hotel ...</td>\n",
       "      <td>/Restaurant_Review-g187147-d1912643-Reviews-R_...</td>\n",
       "      <td>d1912643</td>\n",
       "    </tr>\n",
       "    <tr>\n",
       "      <th>1</th>\n",
       "      <td>id_1535</td>\n",
       "      <td>Stockholm</td>\n",
       "      <td>NaN</td>\n",
       "      <td>1537.0</td>\n",
       "      <td>4.0</td>\n",
       "      <td>NaN</td>\n",
       "      <td>10.0</td>\n",
       "      <td>[['Unique cuisine', 'Delicious Nepalese food']...</td>\n",
       "      <td>/Restaurant_Review-g189852-d7992032-Reviews-Bu...</td>\n",
       "      <td>d7992032</td>\n",
       "    </tr>\n",
       "    <tr>\n",
       "      <th>2</th>\n",
       "      <td>id_352</td>\n",
       "      <td>London</td>\n",
       "      <td>['Japanese', 'Sushi', 'Asian', 'Grill', 'Veget...</td>\n",
       "      <td>353.0</td>\n",
       "      <td>4.5</td>\n",
       "      <td>$$$$</td>\n",
       "      <td>688.0</td>\n",
       "      <td>[['Catch up with friends', 'Not exceptional'],...</td>\n",
       "      <td>/Restaurant_Review-g186338-d8632781-Reviews-RO...</td>\n",
       "      <td>d8632781</td>\n",
       "    </tr>\n",
       "    <tr>\n",
       "      <th>3</th>\n",
       "      <td>id_3456</td>\n",
       "      <td>Berlin</td>\n",
       "      <td>NaN</td>\n",
       "      <td>3458.0</td>\n",
       "      <td>5.0</td>\n",
       "      <td>NaN</td>\n",
       "      <td>3.0</td>\n",
       "      <td>[[], []]</td>\n",
       "      <td>/Restaurant_Review-g187323-d1358776-Reviews-Es...</td>\n",
       "      <td>d1358776</td>\n",
       "    </tr>\n",
       "    <tr>\n",
       "      <th>4</th>\n",
       "      <td>id_615</td>\n",
       "      <td>Munich</td>\n",
       "      <td>['German', 'Central European', 'Vegetarian Fri...</td>\n",
       "      <td>621.0</td>\n",
       "      <td>4.0</td>\n",
       "      <td>$$ - $$$</td>\n",
       "      <td>84.0</td>\n",
       "      <td>[['Best place to try a Bavarian food', 'Nice b...</td>\n",
       "      <td>/Restaurant_Review-g187309-d6864963-Reviews-Au...</td>\n",
       "      <td>d6864963</td>\n",
       "    </tr>\n",
       "  </tbody>\n",
       "</table>\n",
       "</div>"
      ],
      "text/plain": [
       "  Restaurant_id       City                                      Cuisine Style  \\\n",
       "0       id_5569      Paris            ['European', 'French', 'International']   \n",
       "1       id_1535  Stockholm                                                NaN   \n",
       "2        id_352     London  ['Japanese', 'Sushi', 'Asian', 'Grill', 'Veget...   \n",
       "3       id_3456     Berlin                                                NaN   \n",
       "4        id_615     Munich  ['German', 'Central European', 'Vegetarian Fri...   \n",
       "\n",
       "   Ranking  Rating Price Range  Number of Reviews  \\\n",
       "0   5570.0     3.5    $$ - $$$              194.0   \n",
       "1   1537.0     4.0         NaN               10.0   \n",
       "2    353.0     4.5        $$$$              688.0   \n",
       "3   3458.0     5.0         NaN                3.0   \n",
       "4    621.0     4.0    $$ - $$$               84.0   \n",
       "\n",
       "                                             Reviews  \\\n",
       "0  [['Good food at your doorstep', 'A good hotel ...   \n",
       "1  [['Unique cuisine', 'Delicious Nepalese food']...   \n",
       "2  [['Catch up with friends', 'Not exceptional'],...   \n",
       "3                                           [[], []]   \n",
       "4  [['Best place to try a Bavarian food', 'Nice b...   \n",
       "\n",
       "                                              URL_TA     ID_TA  \n",
       "0  /Restaurant_Review-g187147-d1912643-Reviews-R_...  d1912643  \n",
       "1  /Restaurant_Review-g189852-d7992032-Reviews-Bu...  d7992032  \n",
       "2  /Restaurant_Review-g186338-d8632781-Reviews-RO...  d8632781  \n",
       "3  /Restaurant_Review-g187323-d1358776-Reviews-Es...  d1358776  \n",
       "4  /Restaurant_Review-g187309-d6864963-Reviews-Au...  d6864963  "
      ]
     },
     "execution_count": 134,
     "metadata": {},
     "output_type": "execute_result"
    }
   ],
   "source": [
    "data = pd.read_csv('main_task.csv')\n",
    "data.head()"
   ]
  },
  {
   "cell_type": "code",
   "execution_count": 6,
   "metadata": {
    "scrolled": false
   },
   "outputs": [
    {
     "name": "stdout",
     "output_type": "stream",
     "text": [
      "<class 'pandas.core.frame.DataFrame'>\n",
      "RangeIndex: 40000 entries, 0 to 39999\n",
      "Data columns (total 10 columns):\n",
      " #   Column             Non-Null Count  Dtype  \n",
      "---  ------             --------------  -----  \n",
      " 0   Restaurant_id      40000 non-null  object \n",
      " 1   City               40000 non-null  object \n",
      " 2   Cuisine Style      30717 non-null  object \n",
      " 3   Ranking            40000 non-null  float64\n",
      " 4   Rating             40000 non-null  float64\n",
      " 5   Price Range        26114 non-null  object \n",
      " 6   Number of Reviews  37457 non-null  float64\n",
      " 7   Reviews            40000 non-null  object \n",
      " 8   URL_TA             40000 non-null  object \n",
      " 9   ID_TA              40000 non-null  object \n",
      "dtypes: float64(3), object(7)\n",
      "memory usage: 3.1+ MB\n"
     ]
    }
   ],
   "source": [
    "data.info()"
   ]
  },
  {
   "cell_type": "markdown",
   "metadata": {},
   "source": [
    "Подробнее по признакам:\n",
    "* City: Город \n",
    "* Cuisine Style: Кухня\n",
    "* Ranking: Ранг ресторана относительно других ресторанов в этом городе\n",
    "* Price Range: Цены в ресторане в 3 категориях\n",
    "* Number of Reviews: Количество отзывов\n",
    "* Reviews: 2 последних отзыва и даты этих отзывов\n",
    "* URL_TA: страница ресторана на 'www.tripadvisor.com' \n",
    "* ID_TA: ID ресторана в TripAdvisor\n",
    "* Rating: Рейтинг ресторана"
   ]
  },
  {
   "cell_type": "markdown",
   "metadata": {},
   "source": [
    "# Предобработка"
   ]
  },
  {
   "cell_type": "markdown",
   "metadata": {},
   "source": [
    "## Обработка NAN"
   ]
  },
  {
   "cell_type": "markdown",
   "metadata": {},
   "source": [
    "У наличия пропусков могут быть разные причины, но пропуски нужно либо заполнить, либо исключить из набора полностью. Но с пропусками нужно быть внимательным, даже отсутствие информации может быть важным признаком!\n",
    "По этому __перед обработкой NAN лучше вынести информацию о наличии пропуска как отдельный признак__"
   ]
  },
  {
   "cell_type": "code",
   "execution_count": 7,
   "metadata": {},
   "outputs": [],
   "source": [
    "# Незаполнены признаки: Number of Reviews, Cuisine Style, Price Range, Reviews\n",
    "data['Number_of_Reviews_isNAN'] = pd.isna(\n",
    "    data['Number of Reviews']).astype('uint8')\n",
    "data['Cuisine Style_isNAN'] = pd.isna(data['Cuisine Style']).astype('uint8')\n",
    "data['Price Range_isNAN'] = pd.isna(data['Price Range']).astype('uint8')\n",
    "data['Reviews_isNAN'] = pd.isna(data['Reviews']).astype('uint8')"
   ]
  },
  {
   "cell_type": "code",
   "execution_count": 8,
   "metadata": {},
   "outputs": [],
   "source": [
    "# формируем список городов, который нам понадобится в дальнейшем\n",
    "cities_lst = list(data.City.unique())"
   ]
  },
  {
   "cell_type": "code",
   "execution_count": 9,
   "metadata": {},
   "outputs": [],
   "source": [
    "# Небольшая подготовка:формируем список медиан по количеству отзывов в каждом городе\n",
    "city_no_rev = data.groupby('City').agg({'Number of Reviews': 'median'})[\n",
    "    'Number of Reviews'].to_dict()"
   ]
  },
  {
   "cell_type": "code",
   "execution_count": 10,
   "metadata": {},
   "outputs": [],
   "source": [
    "# Заполняем число отзывов медианным по городу, там, где оно пропущено\n",
    "for city in cities_lst:\n",
    "    mask = (data.City == city) & data['Number of Reviews'].isna()\n",
    "    data.loc[mask, 'Number of Reviews'] = city_no_rev[city]"
   ]
  },
  {
   "cell_type": "code",
   "execution_count": 11,
   "metadata": {},
   "outputs": [],
   "source": [
    "# по опыту посещения европейских ресторанов делаем признак Price Range ординальным\n",
    "# с правильным соотношением цен:\n",
    "data['Price Range'] = data['Price Range'].map(\n",
    "    {'$': 1, '$$ - $$$': 2, '$$$$': 6})"
   ]
  },
  {
   "cell_type": "code",
   "execution_count": 12,
   "metadata": {},
   "outputs": [],
   "source": [
    "# выясняем средний ценовой уровень в зависимости от города\n",
    "city_price = data.groupby('City').agg({'Price Range': 'mean'})[\n",
    "    'Price Range'].to_dict()\n",
    "# получается, что в городах рестораны всреднем имеют более высокую ценовую категорию,\n",
    "# а в Португалии и Польше они подешевле."
   ]
  },
  {
   "cell_type": "code",
   "execution_count": 13,
   "metadata": {},
   "outputs": [],
   "source": [
    "# Заполняем ценовой уровень средним по городу, там, где оно пропущено\n",
    "for city in cities_lst:\n",
    "    mask = (data.City == city) & data['Price Range'].isna()\n",
    "    data.loc[mask, 'Price Range'] = city_price[city]"
   ]
  },
  {
   "cell_type": "code",
   "execution_count": 14,
   "metadata": {},
   "outputs": [],
   "source": [
    "# я не знаю, как заполнить отзывы какими-то средними по городу, поэтому заполняем пустым значением\n",
    "data['Reviews'].fillna('\"[[], []]\"', inplace=True)"
   ]
  },
  {
   "cell_type": "code",
   "execution_count": 15,
   "metadata": {},
   "outputs": [],
   "source": [
    "# Почитал по ссылкам о ресторанах, в записях о которых не заполнен признак \"Cuisine Style\".\n",
    "# Выяснилось, что это может быть все, что угодно - кофейни, бары,\n",
    "# фастфуды, недорогие столовые и буфеты самообслуживания. Поэтому решил для них сделать отдельное\n",
    "# значение признака 'Random'.\n",
    "data['Cuisine Style'].fillna(\"['Random']\", inplace=True)"
   ]
  },
  {
   "cell_type": "code",
   "execution_count": 16,
   "metadata": {},
   "outputs": [
    {
     "name": "stdout",
     "output_type": "stream",
     "text": [
      "<class 'pandas.core.frame.DataFrame'>\n",
      "RangeIndex: 40000 entries, 0 to 39999\n",
      "Data columns (total 14 columns):\n",
      " #   Column                   Non-Null Count  Dtype  \n",
      "---  ------                   --------------  -----  \n",
      " 0   Restaurant_id            40000 non-null  object \n",
      " 1   City                     40000 non-null  object \n",
      " 2   Cuisine Style            40000 non-null  object \n",
      " 3   Ranking                  40000 non-null  float64\n",
      " 4   Rating                   40000 non-null  float64\n",
      " 5   Price Range              40000 non-null  float64\n",
      " 6   Number of Reviews        40000 non-null  float64\n",
      " 7   Reviews                  40000 non-null  object \n",
      " 8   URL_TA                   40000 non-null  object \n",
      " 9   ID_TA                    40000 non-null  object \n",
      " 10  Number_of_Reviews_isNAN  40000 non-null  uint8  \n",
      " 11  Cuisine Style_isNAN      40000 non-null  uint8  \n",
      " 12  Price Range_isNAN        40000 non-null  uint8  \n",
      " 13  Reviews_isNAN            40000 non-null  uint8  \n",
      "dtypes: float64(4), object(6), uint8(4)\n",
      "memory usage: 3.2+ MB\n"
     ]
    }
   ],
   "source": [
    "# данные готовы к обработке\n",
    "data.info()"
   ]
  },
  {
   "cell_type": "markdown",
   "metadata": {},
   "source": [
    "## Обработка признаков"
   ]
  },
  {
   "cell_type": "markdown",
   "metadata": {},
   "source": [
    "### Cuisine Style"
   ]
  },
  {
   "cell_type": "markdown",
   "metadata": {},
   "source": [
    "Разбираю строку с перечислением кухонь в список названий."
   ]
  },
  {
   "cell_type": "code",
   "execution_count": 17,
   "metadata": {},
   "outputs": [],
   "source": [
    "data['Cuisine Style'] = data['Cuisine Style'].apply(\n",
    "    lambda row: list(cusine[1:-1] for cusine in row[1:-1].strip().split(', ')))"
   ]
  },
  {
   "cell_type": "markdown",
   "metadata": {},
   "source": [
    "Нахожу общее число стилей кухни (включая Random)"
   ]
  },
  {
   "cell_type": "code",
   "execution_count": 18,
   "metadata": {},
   "outputs": [
    {
     "data": {
      "text/plain": [
       "126"
      ]
     },
     "execution_count": 18,
     "metadata": {},
     "output_type": "execute_result"
    }
   ],
   "source": [
    "len(np.unique(np.hstack(data['Cuisine Style'])))"
   ]
  },
  {
   "cell_type": "markdown",
   "metadata": {},
   "source": [
    "И список всех стилей кухни."
   ]
  },
  {
   "cell_type": "code",
   "execution_count": 19,
   "metadata": {},
   "outputs": [],
   "source": [
    "all_cuisine = list(cuisine[0] for cuisine in Counter(\n",
    "    np.hstack(data['Cuisine Style'])).most_common())"
   ]
  },
  {
   "cell_type": "markdown",
   "metadata": {},
   "source": [
    "### ID_TA"
   ]
  },
  {
   "cell_type": "code",
   "execution_count": 20,
   "metadata": {},
   "outputs": [],
   "source": [
    "# разбираем  ID_TA\n",
    "data['ID_TA'] = data['ID_TA'].apply(lambda row: row[1:]).apply(int)"
   ]
  },
  {
   "cell_type": "code",
   "execution_count": 35,
   "metadata": {
    "scrolled": false
   },
   "outputs": [
    {
     "data": {
      "text/plain": [
       "11921719    2\n",
       "13002276    2\n",
       "8753348     2\n",
       "4600226     2\n",
       "11698990    2\n",
       "Name: ID_TA, dtype: int64"
      ]
     },
     "execution_count": 35,
     "metadata": {},
     "output_type": "execute_result"
    }
   ],
   "source": [
    "# выясняем, что здесь происходит\n",
    "data['ID_TA'].value_counts().head()"
   ]
  },
  {
   "cell_type": "code",
   "execution_count": 24,
   "metadata": {},
   "outputs": [
    {
     "data": {
      "text/plain": [
       "10819    /Restaurant_Review-g187514-d11921719-Reviews-C...\n",
       "12628    /Restaurant_Review-g187514-d11921719-Reviews-C...\n",
       "Name: URL_TA, dtype: object"
      ]
     },
     "execution_count": 24,
     "metadata": {},
     "output_type": "execute_result"
    }
   ],
   "source": [
    "data[data['ID_TA'] == 11921719]['URL_TA']"
   ]
  },
  {
   "cell_type": "code",
   "execution_count": 25,
   "metadata": {},
   "outputs": [
    {
     "data": {
      "text/plain": [
       "'/Restaurant_Review-g187514-d11921719-Reviews-Crepets-Madrid.html'"
      ]
     },
     "execution_count": 25,
     "metadata": {},
     "output_type": "execute_result"
    }
   ],
   "source": [
    "data['URL_TA'][10819]"
   ]
  },
  {
   "cell_type": "code",
   "execution_count": 26,
   "metadata": {},
   "outputs": [
    {
     "data": {
      "text/plain": [
       "'/Restaurant_Review-g187514-d11921719-Reviews-Crepets-Madrid.html'"
      ]
     },
     "execution_count": 26,
     "metadata": {},
     "output_type": "execute_result"
    }
   ],
   "source": [
    "data['URL_TA'][12628]"
   ]
  },
  {
   "cell_type": "markdown",
   "metadata": {},
   "source": [
    "Кажется, что это дубликаты. На самом деле записи различаются признаками Restaurant_id и Ranking. Таких пар 20."
   ]
  },
  {
   "cell_type": "code",
   "execution_count": 30,
   "metadata": {},
   "outputs": [
    {
     "data": {
      "text/html": [
       "<div>\n",
       "<style scoped>\n",
       "    .dataframe tbody tr th:only-of-type {\n",
       "        vertical-align: middle;\n",
       "    }\n",
       "\n",
       "    .dataframe tbody tr th {\n",
       "        vertical-align: top;\n",
       "    }\n",
       "\n",
       "    .dataframe thead th {\n",
       "        text-align: right;\n",
       "    }\n",
       "</style>\n",
       "<table border=\"1\" class=\"dataframe\">\n",
       "  <thead>\n",
       "    <tr style=\"text-align: right;\">\n",
       "      <th></th>\n",
       "      <th>Restaurant_id</th>\n",
       "      <th>City</th>\n",
       "      <th>Cuisine Style</th>\n",
       "      <th>Ranking</th>\n",
       "      <th>Rating</th>\n",
       "      <th>Price Range</th>\n",
       "      <th>Number of Reviews</th>\n",
       "      <th>Reviews</th>\n",
       "      <th>URL_TA</th>\n",
       "      <th>ID_TA</th>\n",
       "      <th>Number_of_Reviews_isNAN</th>\n",
       "      <th>Cuisine Style_isNAN</th>\n",
       "      <th>Price Range_isNAN</th>\n",
       "      <th>Reviews_isNAN</th>\n",
       "    </tr>\n",
       "  </thead>\n",
       "  <tbody>\n",
       "    <tr>\n",
       "      <th>10819</th>\n",
       "      <td>id_2197</td>\n",
       "      <td>Madrid</td>\n",
       "      <td>[Random]</td>\n",
       "      <td>2199.0</td>\n",
       "      <td>4.5</td>\n",
       "      <td>2.024166</td>\n",
       "      <td>16.0</td>\n",
       "      <td>[[], []]</td>\n",
       "      <td>/Restaurant_Review-g187514-d11921719-Reviews-C...</td>\n",
       "      <td>11921719</td>\n",
       "      <td>0</td>\n",
       "      <td>1</td>\n",
       "      <td>1</td>\n",
       "      <td>0</td>\n",
       "    </tr>\n",
       "    <tr>\n",
       "      <th>12628</th>\n",
       "      <td>id_2329</td>\n",
       "      <td>Madrid</td>\n",
       "      <td>[Random]</td>\n",
       "      <td>2331.0</td>\n",
       "      <td>4.5</td>\n",
       "      <td>2.024166</td>\n",
       "      <td>16.0</td>\n",
       "      <td>[[], []]</td>\n",
       "      <td>/Restaurant_Review-g187514-d11921719-Reviews-C...</td>\n",
       "      <td>11921719</td>\n",
       "      <td>0</td>\n",
       "      <td>1</td>\n",
       "      <td>1</td>\n",
       "      <td>0</td>\n",
       "    </tr>\n",
       "  </tbody>\n",
       "</table>\n",
       "</div>"
      ],
      "text/plain": [
       "      Restaurant_id    City Cuisine Style  Ranking  Rating  Price Range  \\\n",
       "10819       id_2197  Madrid      [Random]   2199.0     4.5     2.024166   \n",
       "12628       id_2329  Madrid      [Random]   2331.0     4.5     2.024166   \n",
       "\n",
       "       Number of Reviews   Reviews  \\\n",
       "10819               16.0  [[], []]   \n",
       "12628               16.0  [[], []]   \n",
       "\n",
       "                                                  URL_TA     ID_TA  \\\n",
       "10819  /Restaurant_Review-g187514-d11921719-Reviews-C...  11921719   \n",
       "12628  /Restaurant_Review-g187514-d11921719-Reviews-C...  11921719   \n",
       "\n",
       "       Number_of_Reviews_isNAN  Cuisine Style_isNAN  Price Range_isNAN  \\\n",
       "10819                        0                    1                  1   \n",
       "12628                        0                    1                  1   \n",
       "\n",
       "       Reviews_isNAN  \n",
       "10819              0  \n",
       "12628              0  "
      ]
     },
     "execution_count": 30,
     "metadata": {},
     "output_type": "execute_result"
    }
   ],
   "source": [
    "data.loc[[10819, 12628], :]"
   ]
  },
  {
   "cell_type": "code",
   "execution_count": 36,
   "metadata": {},
   "outputs": [],
   "source": [
    "# формируем список таких дубликатов\n",
    "id_ta_duplicates = data['ID_TA'].value_counts().head(37).index.tolist()"
   ]
  },
  {
   "cell_type": "code",
   "execution_count": 37,
   "metadata": {},
   "outputs": [],
   "source": [
    "# и присваиваем единицы только дубликатным записям\n",
    "data['duplicate_ID_TA'] = data['ID_TA'].apply(\n",
    "    lambda row: row in id_ta_duplicates).astype('uint8')"
   ]
  },
  {
   "cell_type": "markdown",
   "metadata": {},
   "source": [
    "### URL_TA"
   ]
  },
  {
   "cell_type": "code",
   "execution_count": 38,
   "metadata": {},
   "outputs": [],
   "source": [
    "# парсить базу мы не будем, поэтому используем признак URL_TA, чтобы записать туда цифровой\n",
    "# идентификатор из адресной строки.\n",
    "data['URL_TA'] = data['URL_TA'].apply(lambda row: row.split(\n",
    "    '-')[1]).apply(lambda row: row[1:]).apply(int)"
   ]
  },
  {
   "cell_type": "code",
   "execution_count": 40,
   "metadata": {},
   "outputs": [
    {
     "data": {
      "text/plain": [
       "1080937    2\n",
       "1080936    1\n",
       "950782     1\n",
       "3284927    1\n",
       "Name: URL_TA, dtype: int64"
      ]
     },
     "execution_count": 40,
     "metadata": {},
     "output_type": "execute_result"
    }
   ],
   "source": [
    "# видим, что только 3 ресторана из датасета имеют уникальное значение признака,\n",
    "# остальные, видимо, сетевые. Буду надеяться, что модель сама обнаружит, какие\n",
    "# рестораны по этому признаку одинаковы.\n",
    "data['URL_TA'].value_counts().tail(4)"
   ]
  },
  {
   "cell_type": "markdown",
   "metadata": {},
   "source": [
    "### Country"
   ]
  },
  {
   "cell_type": "code",
   "execution_count": 42,
   "metadata": {},
   "outputs": [],
   "source": [
    "# Обогащаем данные новым признаком - страной с помощью самодельного словаря:\n",
    "countries = {'Amsterdam': 'Netherlands',\n",
    "             'Athens': 'Greece',\n",
    "             'Barcelona': 'Spain',\n",
    "             'Berlin': 'Germany',\n",
    "             'Bratislava': 'Slovakia',\n",
    "             'Brussels': 'Belgium',\n",
    "             'Budapest': 'Hungary',\n",
    "             'Copenhagen': 'Denmark',\n",
    "             'Dublin': 'Ireland',\n",
    "             'Edinburgh': 'United Kingdom',\n",
    "             'Geneva': 'Switzerland',\n",
    "             'Hamburg': 'Germany',\n",
    "             'Helsinki': 'Finland',\n",
    "             'Krakow': 'Poland',\n",
    "             'Lisbon': 'Portugal',\n",
    "             'Ljubljana': 'Slovenia',\n",
    "             'London': 'United Kingdom',\n",
    "             'Luxembourg': 'Luxembourg',\n",
    "             'Lyon': 'France',\n",
    "             'Madrid': 'Spain',\n",
    "             'Milan': 'Italy',\n",
    "             'Munich': 'Germany',\n",
    "             'Oporto': 'Portugal',\n",
    "             'Oslo': 'Norway',\n",
    "             'Paris': 'France',\n",
    "             'Prague': 'Czechia',\n",
    "             'Rome': 'Italy',\n",
    "             'Stockholm': 'Sweden',\n",
    "             'Vienna': 'Austria',\n",
    "             'Warsaw': 'Poland',\n",
    "             'Zurich': 'Switzerland'}"
   ]
  },
  {
   "cell_type": "code",
   "execution_count": 43,
   "metadata": {},
   "outputs": [],
   "source": [
    "# создаем новый признак\n",
    "data['Country'] = data['City'].map(countries)"
   ]
  },
  {
   "cell_type": "markdown",
   "metadata": {},
   "source": [
    "### is_capital"
   ]
  },
  {
   "cell_type": "code",
   "execution_count": 44,
   "metadata": {},
   "outputs": [],
   "source": [
    "# некоторые из наших городов = столицы стран, куда приезжает больше туристов и бизнесменов,\n",
    "# надо их пометить с помощью списка столиц:\n",
    "capitals = ['Paris', 'Stockholm', 'London', 'Berlin',\n",
    "            'Bratislava', 'Vienna', 'Rome', 'Madrid',\n",
    "            'Dublin', 'Brussels', 'Warsaw', 'Budapest', 'Copenhagen',\n",
    "            'Amsterdam', 'Lisbon', 'Prague', 'Oslo',\n",
    "            'Helsinki', 'Ljubljana', 'Athens', 'Luxembourg']"
   ]
  },
  {
   "cell_type": "code",
   "execution_count": 45,
   "metadata": {},
   "outputs": [],
   "source": [
    "# новый признак назовем is_capital\n",
    "data['is_capital'] = data['City'].apply(\n",
    "    lambda row: row in capitals).astype('uint8')"
   ]
  },
  {
   "cell_type": "code",
   "execution_count": 46,
   "metadata": {},
   "outputs": [
    {
     "data": {
      "text/plain": [
       "0.7457"
      ]
     },
     "execution_count": 46,
     "metadata": {},
     "output_type": "execute_result"
    }
   ],
   "source": [
    "# почти три четверти ресторанов находятся в столицах.\n",
    "data['is_capital'].mean()"
   ]
  },
  {
   "cell_type": "markdown",
   "metadata": {},
   "source": [
    "### Еще несколько новых признаков - 'Ranking_norm', 'population', 'population_by_rest', 'money_by_rest'"
   ]
  },
  {
   "cell_type": "code",
   "execution_count": 47,
   "metadata": {},
   "outputs": [],
   "source": [
    "# не лишне будет знать население наших городов. Словарик создадим с помощью Википедии, как и список столиц\n",
    "# https://en.wikipedia.org/wiki/List_of_cities_in_the_European_Union_by_population_within_city_limits\n",
    "population = {\n",
    "    'London': 9304016,\n",
    "    'Paris': 2140526,\n",
    "    'Madrid': 3348536,\n",
    "    'Barcelona': 1620343,\n",
    "    'Berlin': 3748148,\n",
    "    'Milan': 1404239,\n",
    "    'Rome': 2856133,\n",
    "    'Prague': 1324277,\n",
    "    'Lisbon': 506654,\n",
    "    'Vienna': 1911728,\n",
    "    'Amsterdam': 873555,\n",
    "    'Brussels': 1209000,\n",
    "    'Hamburg': 1841179,\n",
    "    'Munich': 1471508,\n",
    "    'Lyon': 515695,\n",
    "    'Stockholm': 974073,\n",
    "    'Budapest': 1752286,\n",
    "    'Warsaw': 1790658,\n",
    "    'Dublin': 554554,\n",
    "    'Copenhagen': 626508,\n",
    "    'Athens': 664046,\n",
    "    'Edinburgh': 524930,\n",
    "    'Zurich': 415367,\n",
    "    'Oporto': 237559,\n",
    "    'Geneva': 201818,\n",
    "    'Krakow': 779115,\n",
    "    'Oslo': 693491,\n",
    "    'Helsinki': 648042,\n",
    "    'Bratislava': 432864,\n",
    "    'Luxembourg': 613894,\n",
    "    'Ljubljana': 292988\n",
    "}"
   ]
  },
  {
   "cell_type": "code",
   "execution_count": 48,
   "metadata": {},
   "outputs": [],
   "source": [
    "# немного поработав над данными Евростата, получаем словарь, сколько в среднем тратит в год\n",
    "# житель каждой страны на рестораны:\n",
    "money_for_rest_by_country = {'Belgium': 1280.0,\n",
    "                             'Bulgaria': 350.0,\n",
    "                             'Czechia': 840.0,\n",
    "                             'Denmark': 1500.0,\n",
    "                             'Germany': 1100.0,\n",
    "                             'Estonia': 830.0,\n",
    "                             'Ireland': 3350.0,\n",
    "                             'Greece': 1425.0,\n",
    "                             'Spain': 2270.0,\n",
    "                             'France': 1370.0,\n",
    "                             'Italy': 1820.0,\n",
    "                             'Cyprus': 2940.0,\n",
    "                             'Latvia': 600.0,\n",
    "                             'Lithuania': 410.0,\n",
    "                             'Luxembourg': 2350.0,\n",
    "                             'Hungary': 630.0,\n",
    "                             'Malta': 2820.0,\n",
    "                             'Netherlands': 1690.0,\n",
    "                             'Austria': 3080.0,\n",
    "                             'Poland': 270.0,\n",
    "                             'Portugal': 1800.0,\n",
    "                             'Romania': 210.0,\n",
    "                             'Slovenia': 930.0,\n",
    "                             'Slovakia': 550.0,\n",
    "                             'Finland': 1430.0,\n",
    "                             'Sweden': 1420.0,\n",
    "                             'United Kingdom': 2120.0,\n",
    "                             'Iceland': 4710.0,\n",
    "                             'Norway': 1940.0,\n",
    "                             'Switzerland': 1425.0}"
   ]
  },
  {
   "cell_type": "code",
   "execution_count": 49,
   "metadata": {},
   "outputs": [],
   "source": [
    "# если еще немного постараться, то можно посчитать, сколько денег тратят на рестораны в год\n",
    "# все жители каждого из наших городов:\n",
    "rest_market_value = dict(\n",
    "    ((city), (population[city] * money_for_rest_by_country[countries[city]])) for city in cities_lst)"
   ]
  },
  {
   "cell_type": "code",
   "execution_count": 50,
   "metadata": {},
   "outputs": [
    {
     "data": {
      "text/plain": [
       "31"
      ]
     },
     "execution_count": 50,
     "metadata": {},
     "output_type": "execute_result"
    }
   ],
   "source": [
    "# проверка показала, что мы охватили все города\n",
    "len(rest_market_value)"
   ]
  },
  {
   "cell_type": "code",
   "execution_count": 51,
   "metadata": {},
   "outputs": [],
   "source": [
    "# для создания нескольких признаков надо еще немного потрудиться:\n",
    "# создать словарь количества ресторанов по городам:\n",
    "no_rests_by_city = data.groupby('City').agg(\n",
    "    {'Ranking': 'count'})['Ranking'].to_dict()"
   ]
  },
  {
   "cell_type": "code",
   "execution_count": 52,
   "metadata": {},
   "outputs": [],
   "source": [
    "# надеюсь, что признаки money_by_rest и population_by_rest будут полезны, а пронормированный\n",
    "# по числу ресторанов Ranking_norm точно пригодится:\n",
    "data['Total_no_of_rests'] = data['City'].map(no_rests_by_city)\n",
    "data['Ranking_norm'] = data['Ranking'] / data['Total_no_of_rests']\n",
    "data['population'] = data['City'].map(population)\n",
    "data['population_by_rest'] = data['population'] / data['Total_no_of_rests']\n",
    "data['rest_market_value'] = data['City'].map(rest_market_value)\n",
    "data['money_by_rest'] = data['rest_market_value'] / \\\n",
    "    (data['Total_no_of_rests']*1000000)\n",
    "data.drop(['Total_no_of_rests', 'rest_market_value'], axis=1, inplace=True)\n",
    "# сохраняем population\n",
    "data['population'] = data['population'] / 100000"
   ]
  },
  {
   "cell_type": "markdown",
   "metadata": {},
   "source": [
    "### Признак, указывающий на уникальный стиль кухни в ресторане - 'is_rare_cousine'"
   ]
  },
  {
   "cell_type": "code",
   "execution_count": 61,
   "metadata": {},
   "outputs": [
    {
     "data": {
      "text/plain": [
       "['Yunnan', 'Xinjiang', 'Burmese', 'Latvian']"
      ]
     },
     "execution_count": 61,
     "metadata": {},
     "output_type": "execute_result"
    }
   ],
   "source": [
    "# среди них есть очень редкие кухни.\n",
    "all_cuisine[122:]"
   ]
  },
  {
   "cell_type": "code",
   "execution_count": 55,
   "metadata": {},
   "outputs": [],
   "source": [
    "# Для каждого города найдем список редких кухонь - в каждом городе он свой.\n",
    "# Потом пометим рестораны с редкими кухнями\n",
    "rare_cusines = {}\n",
    "for city in cities_lst:\n",
    "    cnt = Counter(data[data['City'] == city]\n",
    "                  ['Cuisine Style'].values.sum()).most_common()\n",
    "    rare_cusines[city] = []\n",
    "    for cuisine, no in cnt:\n",
    "        if no == 1:\n",
    "            rare_cusines[city].append(cuisine)"
   ]
  },
  {
   "cell_type": "code",
   "execution_count": 76,
   "metadata": {},
   "outputs": [],
   "source": [
    "# определим функцию, возвращающую единицу, если хоть один стиль кухни данного ресторана\n",
    "# является редким для данного города\n",
    "\n",
    "\n",
    "def is_rare_cousine(row):\n",
    "    for cousine in row:\n",
    "        if cousine in rare_cusines[city]:\n",
    "            return 1\n",
    "    return 0"
   ]
  },
  {
   "cell_type": "code",
   "execution_count": 77,
   "metadata": {
    "scrolled": true
   },
   "outputs": [],
   "source": [
    "# и применим эту функцию, сгруппировав рестораны по городам\n",
    "for city in cities_lst:\n",
    "    mask = (data.City == city)\n",
    "    data.loc[mask, 'is_rare_cousine'] = data.loc[mask,\n",
    "                                                 'Cuisine Style'].apply(is_rare_cousine)"
   ]
  },
  {
   "cell_type": "markdown",
   "metadata": {},
   "source": [
    "### Признаки 'Restaurant_id' и 'isin_chain'"
   ]
  },
  {
   "cell_type": "code",
   "execution_count": 82,
   "metadata": {},
   "outputs": [
    {
     "data": {
      "text/html": [
       "<div>\n",
       "<style scoped>\n",
       "    .dataframe tbody tr th:only-of-type {\n",
       "        vertical-align: middle;\n",
       "    }\n",
       "\n",
       "    .dataframe tbody tr th {\n",
       "        vertical-align: top;\n",
       "    }\n",
       "\n",
       "    .dataframe thead th {\n",
       "        text-align: right;\n",
       "    }\n",
       "</style>\n",
       "<table border=\"1\" class=\"dataframe\">\n",
       "  <thead>\n",
       "    <tr style=\"text-align: right;\">\n",
       "      <th></th>\n",
       "      <th>Restaurant_id</th>\n",
       "      <th>Ranking</th>\n",
       "    </tr>\n",
       "  </thead>\n",
       "  <tbody>\n",
       "    <tr>\n",
       "      <th>Restaurant_id</th>\n",
       "      <td>1.0</td>\n",
       "      <td>1.0</td>\n",
       "    </tr>\n",
       "    <tr>\n",
       "      <th>Ranking</th>\n",
       "      <td>1.0</td>\n",
       "      <td>1.0</td>\n",
       "    </tr>\n",
       "  </tbody>\n",
       "</table>\n",
       "</div>"
      ],
      "text/plain": [
       "               Restaurant_id  Ranking\n",
       "Restaurant_id            1.0      1.0\n",
       "Ranking                  1.0      1.0"
      ]
     },
     "execution_count": 82,
     "metadata": {},
     "output_type": "execute_result"
    }
   ],
   "source": [
    "# Признак 'Restaurant_id' практически неотличим от признака 'Ranking'.\n",
    "# Убедимся в этом, переведя его в численный вид:\n",
    "data['Restaurant_id'] = (data['Restaurant_id'].map(lambda x: x[3:])).apply(int)\n",
    "data[['Restaurant_id', 'Ranking']].corr()"
   ]
  },
  {
   "cell_type": "markdown",
   "metadata": {},
   "source": [
    "Однако для тестового датасета на Kaggle это не так, поэтому сохраним признак  'Restaurant_id'"
   ]
  },
  {
   "cell_type": "code",
   "execution_count": 83,
   "metadata": {},
   "outputs": [
    {
     "data": {
      "text/plain": [
       "7204"
      ]
     },
     "execution_count": 83,
     "metadata": {},
     "output_type": "execute_result"
    }
   ],
   "source": [
    "# при этом у нас есть группы ресторанов с одинаковым id, видимо, они принадлежат к сетям. Надо бы их пометить\n",
    "id_count = data['Restaurant_id'].value_counts()\n",
    "isin_chain = list(set(id_count[id_count.values > 1].index))\n",
    "len(isin_chain)"
   ]
  },
  {
   "cell_type": "code",
   "execution_count": 84,
   "metadata": {},
   "outputs": [],
   "source": [
    "# помечаем их\n",
    "data['isin_chain'] = data['Restaurant_id'].isin(isin_chain).astype('uint8')"
   ]
  },
  {
   "cell_type": "markdown",
   "metadata": {},
   "source": [
    "### Разбираем признак Reviews на даты и слова. Из дат формируем 2 новых признака, а слова отзывов ранжируем для использования как Dummy."
   ]
  },
  {
   "cell_type": "markdown",
   "metadata": {},
   "source": [
    "__Разбираем даты__\n",
    "\n",
    "Формируем признаки 'all_dates_ISNA', 'before_date_ISNA', 'interval', 'days since last rew'"
   ]
  },
  {
   "cell_type": "code",
   "execution_count": 86,
   "metadata": {},
   "outputs": [],
   "source": [
    "# Формируем вспомогательный признак List of Reviews, который в дальнейшем разберем на слова:\n",
    "data['List of Reviews'] = data.Reviews.apply(\n",
    "    lambda row: row[2:-2].split('], [')[0][1:-1].split(\"', '\"))"
   ]
  },
  {
   "cell_type": "code",
   "execution_count": 87,
   "metadata": {},
   "outputs": [],
   "source": [
    "# Формируем вспомогательный признак 'dates', который в дальнейшем разберем\n",
    "# на 2 признака - количество дней с последнего отзыва и количество дней между отзывами:\n",
    "data['dates'] = data.Reviews.apply(\n",
    "    lambda row: row[2:-2].split('], [')[1][1:-1].split(\"', '\"))"
   ]
  },
  {
   "cell_type": "code",
   "execution_count": 88,
   "metadata": {},
   "outputs": [],
   "source": [
    "# Признак 'dates' содержит ни одной, одну или две даты. Если признак не заполнен,\n",
    "# заполняем его списком из пустой строки ( первое, что пришло в голову ).\n",
    "data['dates'] = data['dates'].apply(lambda row: [''] if row == None else row)"
   ]
  },
  {
   "cell_type": "code",
   "execution_count": 89,
   "metadata": {},
   "outputs": [],
   "source": [
    "# готовим значение неопределенной даты-времени\n",
    "\n",
    "nat = pd.NaT                               # np.datetime64('NaT')\n",
    "\n",
    "# мы уверены, что в списке дат на первом месте или список из пустой строки или первая дата,\n",
    "# если это дата, записываем ее в признак Last date\n",
    "\n",
    "data['Last date'] = data['dates'].apply(lambda row: datetime.strptime(\n",
    "    row[0], '%m/%d/%Y')if len(row[0]) > 0 else nat)\n",
    "\n",
    "# Если длина списка в значении признака 'dates' больше 1, там есть еще одна дата.\n",
    "# Записываем ее в признак 'Before date'\n",
    "\n",
    "data['Before date'] = data['dates'].apply(lambda row: datetime.strptime(\n",
    "    row[1], '%m/%d/%Y')if len(row) > 1 else nat)"
   ]
  },
  {
   "cell_type": "code",
   "execution_count": 90,
   "metadata": {},
   "outputs": [],
   "source": [
    "# Как оказалось, иногда хронология дат перепутана. Я не увидел, что это связано с целевой переменной,\n",
    "# поэтому просто приводим даты в порядок:\n",
    "data['Last date'], data['Before date'] = data[['Last date', 'Before date']\n",
    "                                              ].values.max(axis=1), data[['Last date', 'Before date']].values.min(axis=1)"
   ]
  },
  {
   "cell_type": "code",
   "execution_count": 91,
   "metadata": {},
   "outputs": [],
   "source": [
    "# помечаем строки с одной или обоими неопределенными датами\n",
    "data['all_dates_ISNA'] = data['Last date'].isna().astype('uint8')\n",
    "data['before_date_ISNA'] = data['Before date'].isna().astype('uint8')"
   ]
  },
  {
   "cell_type": "code",
   "execution_count": 92,
   "metadata": {},
   "outputs": [],
   "source": [
    "# вычисляем временной интервал между отзывами в виде целого числа дней:\n",
    "data['interval'] = (data['Last date'] - data['Before date']\n",
    "                    ).astype('timedelta64[D]')"
   ]
  },
  {
   "cell_type": "code",
   "execution_count": 93,
   "metadata": {},
   "outputs": [],
   "source": [
    "# договариваемся для удобства, что дата самого позднего из всех отзывов - это \"сегодняшний день\"\n",
    "# от него будем отсчитывать назад все количества дней в признаках\n",
    "day_now = data['Last date'].max()"
   ]
  },
  {
   "cell_type": "code",
   "execution_count": 94,
   "metadata": {},
   "outputs": [
    {
     "data": {
      "text/plain": [
       "Timestamp('2018-02-26 00:00:00')"
      ]
     },
     "execution_count": 94,
     "metadata": {},
     "output_type": "execute_result"
    }
   ],
   "source": [
    "# вот он:\n",
    "day_now"
   ]
  },
  {
   "cell_type": "markdown",
   "metadata": {},
   "source": [
    "Из дат формируем 2 новых числовых признака для моделирования: количество дней со дня последнего отзыва и временной интервал между отзывами в дня"
   ]
  },
  {
   "cell_type": "code",
   "execution_count": 95,
   "metadata": {},
   "outputs": [],
   "source": [
    "# количество дней со дня последнего отзыва - заполняем средним значением\n",
    "data['days since last rew'] = (\n",
    "    day_now - data['Last date']).astype('timedelta64[D]')\n",
    "days_median = int(data['days since last rew'].median())\n",
    "data['days since last rew'].fillna(days_median, inplace=True)"
   ]
  },
  {
   "cell_type": "code",
   "execution_count": 96,
   "metadata": {},
   "outputs": [],
   "source": [
    "# временной интервал между отзывами в днях\n",
    "data['interval'].fillna(data['interval'].median(), inplace=True)"
   ]
  },
  {
   "cell_type": "markdown",
   "metadata": {},
   "source": [
    "__Разбираем отзывы на слова__\n",
    "\n",
    "Я применил самый простой и быстрый способ разбора по причине отсутствия навыка и ограниченного времени. Я потерял зависимости целевой переменной от идиоматических выражений английского языка (состоящих из нескольких слов и обладающих самостоятельным смыслом, выделять которые надо было до разбиения на слова). Тем не менее надеюсь, что просто выделение ключевых слов даст нам возможность улучшить модель."
   ]
  },
  {
   "cell_type": "code",
   "execution_count": 97,
   "metadata": {},
   "outputs": [
    {
     "data": {
      "text/plain": [
       "'!\"#$%&\\'()*+,-./:;<=>?@[\\\\]^_`{|}~'"
      ]
     },
     "execution_count": 97,
     "metadata": {},
     "output_type": "execute_result"
    }
   ],
   "source": [
    "# это полезная константа, содержащая все знаки препинания.\n",
    "string.punctuation"
   ]
  },
  {
   "cell_type": "code",
   "execution_count": 98,
   "metadata": {},
   "outputs": [],
   "source": [
    "# Определяем функцию, переводящую каждую строку rev (текст одного отзыва) из row\n",
    "# (значения признака 'List of Reviews') в нижний регистр, заменяющую пунктуацию, разделяющую строку на слова\n",
    "# и удаляющую числа\n",
    "\n",
    "\n",
    "def reviews_tolist(row):\n",
    "    table = str.maketrans(dict.fromkeys(string.punctuation, ' '))\n",
    "    words = []\n",
    "    for rev in row:\n",
    "        words += rev.lower().translate(table).split(' ')\n",
    "    words = [w for w in words if (not w.isdigit() & (not w == ' '))]\n",
    "    return words"
   ]
  },
  {
   "cell_type": "code",
   "execution_count": 99,
   "metadata": {},
   "outputs": [],
   "source": [
    "# применяем функцию\n",
    "data['rew words'] = data['List of Reviews'].apply(reviews_tolist)"
   ]
  },
  {
   "cell_type": "code",
   "execution_count": 100,
   "metadata": {},
   "outputs": [
    {
     "data": {
      "text/plain": [
       "0    [good, food, at, your, doorstep, a, good, hote...\n",
       "1         [unique, cuisine, delicious, nepalese, food]\n",
       "2         [catch, up, with, friends, not, exceptional]\n",
       "3                                                   []\n",
       "4    [best, place, to, try, a, bavarian, food, nice...\n",
       "Name: rew words, dtype: object"
      ]
     },
     "execution_count": 100,
     "metadata": {},
     "output_type": "execute_result"
    }
   ],
   "source": [
    "# вуаля\n",
    "data['rew words'].head()"
   ]
  },
  {
   "cell_type": "code",
   "execution_count": 101,
   "metadata": {},
   "outputs": [],
   "source": [
    "# выбираем и ранжируем популярные слова из списков data['rew words']\n",
    "pop_words = list(word[0] for word in Counter(\n",
    "    np.hstack(data['rew words'])).most_common(101))"
   ]
  },
  {
   "cell_type": "code",
   "execution_count": 102,
   "metadata": {},
   "outputs": [
    {
     "data": {
      "text/plain": [
       "''"
      ]
     },
     "execution_count": 102,
     "metadata": {},
     "output_type": "execute_result"
    }
   ],
   "source": [
    "# самое частое слово - пустое\n",
    "pop_words[0]"
   ]
  },
  {
   "cell_type": "code",
   "execution_count": 103,
   "metadata": {},
   "outputs": [],
   "source": [
    "# удаляем его из списка\n",
    "pop_words = pop_words[1:]"
   ]
  },
  {
   "cell_type": "markdown",
   "metadata": {},
   "source": [
    "Итак, мы сделали список из 100 самых частых слов, встречающихся в отзывах. "
   ]
  },
  {
   "cell_type": "markdown",
   "metadata": {},
   "source": [
    "## Создание признаков Dummy"
   ]
  },
  {
   "cell_type": "code",
   "execution_count": 104,
   "metadata": {},
   "outputs": [],
   "source": [
    "# сначала делаем Dummies на каждый стиль кухни:\n",
    "for cuisine in all_cuisine:\n",
    "    data[cuisine] = data['Cuisine Style'].apply(\n",
    "        lambda row: cuisine in row).astype('uint8')"
   ]
  },
  {
   "cell_type": "code",
   "execution_count": 105,
   "metadata": {},
   "outputs": [],
   "source": [
    "# Делаем Dummy из 100 ключевых слов\n",
    "for word in pop_words:\n",
    "    data[word] = data['rew words'].apply(\n",
    "        lambda row: word in row).astype('uint8')"
   ]
  },
  {
   "cell_type": "code",
   "execution_count": 106,
   "metadata": {},
   "outputs": [],
   "source": [
    "# Делаем Dummy из всех городов\n",
    "data = pd.concat([data, pd.get_dummies(data.City, drop_first=False)], axis=1)"
   ]
  },
  {
   "cell_type": "code",
   "execution_count": 107,
   "metadata": {},
   "outputs": [],
   "source": [
    "# Делаем Dummy из всех стран\n",
    "data = pd.concat([data, pd.get_dummies(\n",
    "    data.Country, drop_first=False)], axis=1)"
   ]
  },
  {
   "cell_type": "markdown",
   "metadata": {},
   "source": [
    "## Готовим данные для моделирования"
   ]
  },
  {
   "cell_type": "code",
   "execution_count": 108,
   "metadata": {},
   "outputs": [],
   "source": [
    "# Копируем наш датасет, чтобы не потерять данные, которые, возможно, нам еще пригодятся\n",
    "df = data.copy()"
   ]
  },
  {
   "cell_type": "code",
   "execution_count": 109,
   "metadata": {},
   "outputs": [],
   "source": [
    "# Удаляем все колонки с типом данных object\n",
    "object_columns = ['City', 'Cuisine Style', 'Reviews',\n",
    "                  'Country', 'List of Reviews', 'dates', 'rew words']\n",
    "df.drop(object_columns, axis=1, inplace=True)"
   ]
  },
  {
   "cell_type": "code",
   "execution_count": 110,
   "metadata": {},
   "outputs": [],
   "source": [
    "# Удаляем все колонки с типом данных DateTime\n",
    "dt_columns = ['Last date', 'Before date']\n",
    "df.drop(dt_columns, axis=1, inplace=True)"
   ]
  },
  {
   "cell_type": "code",
   "execution_count": 112,
   "metadata": {},
   "outputs": [],
   "source": [
    "# проверяем тип данных оставшихся колонок\n",
    "# df.info(verbose=True)"
   ]
  },
  {
   "cell_type": "markdown",
   "metadata": {},
   "source": [
    "# Разбиваем датафрейм на части, необходимые для обучения и тестирования модели"
   ]
  },
  {
   "cell_type": "code",
   "execution_count": 113,
   "metadata": {},
   "outputs": [],
   "source": [
    "# Х - данные с информацией о ресторанах, у - целевая переменная (рейтинги ресторанов)\n",
    "X = df.drop(['Rating'], axis=1)\n",
    "y = df['Rating']"
   ]
  },
  {
   "cell_type": "code",
   "execution_count": 114,
   "metadata": {},
   "outputs": [],
   "source": [
    "# Загружаем специальный инструмент для разбивки:\n",
    "from sklearn.model_selection import train_test_split"
   ]
  },
  {
   "cell_type": "code",
   "execution_count": 115,
   "metadata": {},
   "outputs": [],
   "source": [
    "# Наборы данных с меткой \"train\" будут использоваться для обучения модели, \"test\" - для тестирования.\n",
    "# Для тестирования мы будем использовать 25% от исходного датасета.\n",
    "X_train, X_test, y_train, y_test = train_test_split(X, y, test_size=0.25)"
   ]
  },
  {
   "cell_type": "code",
   "execution_count": 116,
   "metadata": {},
   "outputs": [
    {
     "data": {
      "text/plain": [
       "((30000, 301), (10000, 301), (30000,), (10000,))"
      ]
     },
     "execution_count": 116,
     "metadata": {},
     "output_type": "execute_result"
    }
   ],
   "source": [
    "X_train.shape, X_test.shape, y_train.shape, y_test.shape"
   ]
  },
  {
   "cell_type": "markdown",
   "metadata": {},
   "source": [
    "# Создаём, обучаем и тестируем модель"
   ]
  },
  {
   "cell_type": "code",
   "execution_count": 117,
   "metadata": {},
   "outputs": [],
   "source": [
    "# Импортируем необходимые библиотеки:\n",
    "# инструмент для создания и обучения модели\n",
    "from sklearn.ensemble import RandomForestRegressor\n",
    "from sklearn import metrics  # инструменты для оценки точности модели"
   ]
  },
  {
   "cell_type": "code",
   "execution_count": 118,
   "metadata": {},
   "outputs": [],
   "source": [
    "# Создаём модель\n",
    "regr = RandomForestRegressor(n_estimators=100)\n",
    "\n",
    "# Обучаем модель на тестовом наборе данных\n",
    "regr.fit(X_train, y_train)\n",
    "\n",
    "# Используем обученную модель для предсказания рейтинга ресторанов в тестовой выборке.\n",
    "# Предсказанные значения записываем в переменную y_pred\n",
    "y_pred = regr.predict(X_test)"
   ]
  },
  {
   "cell_type": "code",
   "execution_count": 119,
   "metadata": {},
   "outputs": [
    {
     "name": "stdout",
     "output_type": "stream",
     "text": [
      "MAE: 0.20195199999999996\n"
     ]
    }
   ],
   "source": [
    "# Сравниваем предсказанные значения (y_pred) с реальными (y_test), и смотрим насколько они в среднем отличаются\n",
    "# Метрика называется Mean Absolute Error (MAE) и показывает среднее отклонение предсказанных значений\n",
    "# от фактических.\n",
    "print('MAE:', metrics.mean_absolute_error(y_test, y_pred))"
   ]
  },
  {
   "cell_type": "markdown",
   "metadata": {},
   "source": [
    "Смотрим, какие признаки были важнейшими для модели:"
   ]
  },
  {
   "cell_type": "code",
   "execution_count": 123,
   "metadata": {},
   "outputs": [
    {
     "data": {
      "text/plain": [
       "<matplotlib.axes._subplots.AxesSubplot at 0x25a549a31c8>"
      ]
     },
     "execution_count": 123,
     "metadata": {},
     "output_type": "execute_result"
    },
    {
     "data": {
      "image/png": "[encoded data removed]",
      "text/plain": [
       "<Figure size 1440x720 with 1 Axes>"
      ]
     },
     "metadata": {
      "needs_background": "light"
     },
     "output_type": "display_data"
    }
   ],
   "source": [
    "%matplotlib inline\n",
    "plt.rcParams['figure.figsize'] = (20, 10)\n",
    "feat_importances = pd.Series(regr.feature_importances_, index=X.columns)\n",
    "feat_importances.nlargest(30).plot(kind='barh')"
   ]
  },
  {
   "cell_type": "code",
   "execution_count": 126,
   "metadata": {},
   "outputs": [],
   "source": [
    "# составляем список важнейших\n",
    "main_features = feat_importances.nlargest(30).index.tolist()"
   ]
  },
  {
   "cell_type": "code",
   "execution_count": 127,
   "metadata": {},
   "outputs": [],
   "source": [
    "# Еще раз копируем датасет, оставив только важнейшие признаки:\n",
    "df = data[main_features].copy()"
   ]
  },
  {
   "cell_type": "code",
   "execution_count": 129,
   "metadata": {},
   "outputs": [],
   "source": [
    "# разбиваем\n",
    "X_train, X_test, y_train, y_test = train_test_split(X, y, test_size=0.25)"
   ]
  },
  {
   "cell_type": "code",
   "execution_count": 130,
   "metadata": {},
   "outputs": [],
   "source": [
    "# Создаём модель\n",
    "regr = RandomForestRegressor(n_estimators=100)\n",
    "\n",
    "# Обучаем модель на тестовом наборе данных\n",
    "regr.fit(X_train, y_train)\n",
    "\n",
    "# Используем обученную модель для предсказания рейтинга ресторанов в тестовой выборке.\n",
    "# Предсказанные значения записываем в переменную y_pred\n",
    "y_pred = regr.predict(X_test)"
   ]
  },
  {
   "cell_type": "code",
   "execution_count": 132,
   "metadata": {},
   "outputs": [],
   "source": [
    "# округляем результат ( большое спасибо Александру Осинцеву)\n",
    "def rating_round(x, base=0.5):\n",
    "    return base * round(x/base)\n",
    "\n",
    "\n",
    "def predict(ds):\n",
    "    return np.array([rating_round(x) for x in regr.predict(ds)])\n",
    "\n",
    "\n",
    "y_pred = predict(X_test)"
   ]
  },
  {
   "cell_type": "code",
   "execution_count": 133,
   "metadata": {},
   "outputs": [
    {
     "name": "stdout",
     "output_type": "stream",
     "text": [
      "MAE: 0.17025\n"
     ]
    }
   ],
   "source": [
    "# Сравниваем предсказанные значения (y_pred) с реальными (y_test), и смотрим насколько они в среднем отличаются\n",
    "# Метрика называется Mean Absolute Error (MAE) и показывает среднее отклонение предсказанных значений\n",
    "# от фактических.\n",
    "print('MAE:', metrics.mean_absolute_error(y_test, y_pred))"
   ]
  },
  {
   "cell_type": "markdown",
   "metadata": {},
   "source": [
    "# Вывод: правильно подобранные признаки и округление результата приводят к значительному улучшению работы модели"
   ]
  }
 ],
 "metadata": {
  "kernelspec": {
   "display_name": "Python 3",
   "language": "python",
   "name": "python3"
  },
  "language_info": {
   "codemirror_mode": {
    "name": "ipython",
    "version": 3
   },
   "file_extension": ".py",
   "mimetype": "text/x-python",
   "name": "python",
   "nbconvert_exporter": "python",
   "pygments_lexer": "ipython3",
   "version": "3.7.7"
  },
  "toc": {
   "base_numbering": 1,
   "nav_menu": {},
   "number_sections": true,
   "sideBar": true,
   "skip_h1_title": false,
   "title_cell": "Table of Contents",
   "title_sidebar": "Contents",
   "toc_cell": false,
   "toc_position": {},
   "toc_section_display": true,
   "toc_window_display": true
  },
  "varInspector": {
   "cols": {
    "lenName": 16,
    "lenType": 16,
    "lenVar": 40
   },
   "kernels_config": {
    "python": {
     "delete_cmd_postfix": "",
     "delete_cmd_prefix": "del ",
     "library": "var_list.py",
     "varRefreshCmd": "print(var_dic_list())"
    },
    "r": {
     "delete_cmd_postfix": ") ",
     "delete_cmd_prefix": "rm(",
     "library": "var_list.r",
     "varRefreshCmd": "cat(var_dic_list()) "
    }
   },
   "types_to_exclude": [
    "module",
    "function",
    "builtin_function_or_method",
    "instance",
    "_Feature"
   ],
   "window_display": false
  }
 },
 "nbformat": 4,
 "nbformat_minor": 4
}
